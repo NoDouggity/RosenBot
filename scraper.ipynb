{
 "cells": [
  {
   "cell_type": "code",
   "execution_count": null,
   "id": "1d8f6141",
   "metadata": {},
   "outputs": [],
   "source": [
    "from selenium import webdriver\n",
    "from selenium.webdriver.support.select import Select\n",
    "from selenium.webdriver.common.by import By\n",
    "from selenium.webdriver.support.ui import WebDriverWait\n",
    "from selenium.webdriver.support import expected_conditions as EC\n",
    "\n",
    "# Create a new instance of the Chrome driver\n",
    "PATH = \"C:\\Program Files (x86)\\chromedriver.exe\"\n",
    "driver = webdriver.Chrome(PATH)\n",
    "driver.get(\"https://www.mc.mil/Cases/MC-Cases\")\n",
    "\n",
    "xpath = \"/html/body/form/div[3]/main/div[1]/div/div/div/div[1]/div[1]/main/div/div[1]/div/div/div[2]/div[2]/div[1]/div[1]/span/div/button\"\n",
    "# path to KSM et al. case. Replace with xpath of other case as needed.\n",
    "\n",
    "button = WebDriverWait(driver,10).until(\n",
    "    EC.presence_of_element_located((By.XPATH, xpath))\n",
    "    )\n",
    "button.click()\n",
    "\n",
    "pager = WebDriverWait(driver,10).until(\n",
    "    EC.presence_of_element_located((By.NAME, \"pageSelector\"))\n",
    ")\n",
    "\n",
    "page_selector = Select(pager)\n",
    "options = page_selector.options\n",
    "links = []\n",
    "for option in options: # start small\n",
    "    option.click()\n",
    "    WebDriverWait(driver,10).until( # wait for links to load\n",
    "        EC.presence_of_element_located((By.XPATH, \"/html/body/form/div[3]/main/div[1]/div/div/div/div[1]/div[1]/main/div/div[2]/div/div[3]/div[2]/div[2]/div/div[1]/a\"))\n",
    "    )\n",
    "    for i in range(20): # clunky iteration because elements don't have neat selectors. Will break on last page.\n",
    "        element = driver.find_element_by_xpath(\"/html/body/form/div[3]/main/div[1]/div/div/div/div[1]/div[1]/main/div/div[2]/div/div[3]/div[2]/div[{}]\".format(i+2))\n",
    "        \n",
    "        text = element.get_attribute(\"innerText\") # gets the name of the filing, date, AE number, and presence of attachment.\n",
    "        parts = text.split('\\n')\n",
    "        \n",
    "        html = element.get_attribute(\"outerHTML\")\n",
    "        link = 'https://www.mc.mil' + html[html.find('href')+6:(html.find('.pdf')+4)] # sinful but it works.\n",
    "        \n",
    "        parts.append(link)\n",
    "        links.append(parts)\n"
   ]
  },
  {
   "cell_type": "code",
   "execution_count": 48,
   "id": "91f01b36",
   "metadata": {},
   "outputs": [],
   "source": [
    "\n",
    "with open('linktable.txt', 'w') as f:\n",
    "    for item in links:\n",
    "        f.write(f\"{item}\\n\")\n",
    "driver.quit()"
   ]
  }
 ],
 "metadata": {
  "kernelspec": {
   "display_name": "learning",
   "language": "python",
   "name": "python3"
  },
  "language_info": {
   "codemirror_mode": {
    "name": "ipython",
    "version": 3
   },
   "file_extension": ".py",
   "mimetype": "text/x-python",
   "name": "python",
   "nbconvert_exporter": "python",
   "pygments_lexer": "ipython3",
   "version": "3.10.12"
  }
 },
 "nbformat": 4,
 "nbformat_minor": 5
}
