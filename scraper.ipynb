{
 "cells": [
  {
   "cell_type": "code",
   "execution_count": 22,
   "id": "0990193f",
   "metadata": {},
   "outputs": [],
   "source": [
    "import os\n",
    "import pypdf\n",
    "import requests\n",
    "from bs4 import BeautifulSoup\n",
    "import re\n",
    "\n",
    "def download_file(url):\n",
    "    local_filename = url.split('/')[-1]\n",
    "    with requests.get(url, stream=True) as r:\n",
    "        r.raise_for_status()\n",
    "        with open(local_filename, 'wb') as f:\n",
    "            for chunk in r.iter_content(chunk_size=8192): \n",
    "                f.write(chunk)\n",
    "    return local_filename\n",
    "\n"
   ]
  },
  {
   "cell_type": "code",
   "execution_count": 13,
   "id": "1d8f6141",
   "metadata": {},
   "outputs": [],
   "source": [
    "from selenium import webdriver\n",
    "from selenium.webdriver.common.by import By\n",
    "from selenium.webdriver.support.ui import WebDriverWait\n",
    "from selenium.webdriver.support import expected_conditions as EC\n",
    "\n",
    "# Create a new instance of the Chrome driver\n",
    "PATH = \"C:\\Program Files (x86)\\chromedriver.exe\"\n",
    "driver = webdriver.Chrome(PATH)\n",
    "driver.get(\"https://www.mc.mil/Cases/MC-Cases\")\n",
    "\n",
    "xpath = \"/html/body/form/div[3]/main/div[1]/div/div/div/div[1]/div[1]/main/div/div[1]/div/div/div[2]/div[2]/div[1]/div[1]/span/div/button\"\n",
    "# path to KSM et al. case\n",
    "\n",
    "xpath_filters = \"/html/body/form/div[3]/main/div[1]/div/div/div/div[1]/div[1]/main/div/div[2]/div/div[2]/div/button\"\n",
    "\n",
    "xpath_transcripts = \"/html/body/form/div[3]/main/div[1]/div/div/div/div[1]/div[1]/main/div/div[3]/div/div/div[2]/div/div/div[2]/div/div/div[1]/div[3]/label/span\"\n",
    "# checkbox to select transcripts\n",
    "\n",
    "button = WebDriverWait(driver,10).until(\n",
    "    EC.presence_of_element_located((By.XPATH, xpath))\n",
    "    )\n",
    "button.click()\n",
    "\n",
    "pager = WebDriverWait(driver,10).until(\n",
    "    EC.presence_of_element_located((By.NAME, \"pageSelector\"))\n",
    ")\n",
    "\n",
    "# Scrape all the links on the page ending in .pdf\n",
    "\n",
    "# Advance to next page\n"
   ]
  },
  {
   "cell_type": "code",
   "execution_count": 20,
   "id": "8fddaa66",
   "metadata": {},
   "outputs": [
    {
     "data": {
      "text/plain": [
       "'641'"
      ]
     },
     "execution_count": 20,
     "metadata": {},
     "output_type": "execute_result"
    }
   ],
   "source": [
    "pager.get_attribute(\"length\")"
   ]
  },
  {
   "cell_type": "code",
   "execution_count": 12,
   "id": "ac688383",
   "metadata": {},
   "outputs": [],
   "source": [
    "driver.quit()"
   ]
  },
  {
   "cell_type": "code",
   "execution_count": 24,
   "id": "177b0c35",
   "metadata": {},
   "outputs": [],
   "source": [
    "# url = \"https://www.mc.mil/Cases/MC-Cases\"\n",
    "# the difficulty is that the urls of the pdfs I want are being dynamically exposed via javascript.\n",
    "# page = requests.get(url)\n",
    "# soup = BeautifulSoup(page.content, 'html.parser')\n",
    "\n",
    "# print(soup)"
   ]
  },
  {
   "cell_type": "code",
   "execution_count": null,
   "id": "8d0f38bc",
   "metadata": {},
   "outputs": [],
   "source": [
    "testpdf = pypdf.PdfReader\n",
    "page = testpdf.pages[0]\n",
    "print(page.extract_text())"
   ]
  }
 ],
 "metadata": {
  "kernelspec": {
   "display_name": "learning",
   "language": "python",
   "name": "python3"
  },
  "language_info": {
   "codemirror_mode": {
    "name": "ipython",
    "version": 3
   },
   "file_extension": ".py",
   "mimetype": "text/x-python",
   "name": "python",
   "nbconvert_exporter": "python",
   "pygments_lexer": "ipython3",
   "version": "3.10.12"
  }
 },
 "nbformat": 4,
 "nbformat_minor": 5
}
