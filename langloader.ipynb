{
 "cells": [
  {
   "cell_type": "code",
   "execution_count": 49,
   "metadata": {},
   "outputs": [
    {
     "data": {
      "text/plain": [
       "Document(page_content=\" MJ [Col McCALL]:  All right.  Thank you, Mr. Trivett.\\nGood morning, Mr.  Sowards.\\nLDC [MR. SOWARDS]:  Good morning, sir.  How are you?\\nMJ [Col McCALL]:  I'm fine.\\nCould you please indicate who's in attendance both here  in\\nthe courtroom and at the RHR for Mr.  Mohammad?\\nLDC [MR. SOWARDS]:  Yes, sir.\\nMr. Mohammad is present, along with me, Gary Sowards;\\nMelanie Partow; Gabriela McQuade; Denise LeBoeuf; Lieutenant Colonel\\nNicholas  McCue.\\nAnd then in the RHR we have Ma jor Elspeth Theis, Lieutenant\\nColonel Kathleen Potter, and Lieutenant William  Xu.\\nMJ [Col McCALL]:  All right.  Thank you, Mr.  Sowards.\\nLDC [MR. SOWARDS]:  Thank you.\\nMJ [Col McCALL]:  Good morning, Mr.  Engle.\\nLDC [MR. ENGLE]:  Good morning, Your Honor .\\nOn behalf of Mr.  Bin'Attash, myself, Matthew  Engle; William\\nMontross; and Analyst Waseem Halabi in the courtroom.\\nIn the Remote Hearing Room we have Ms.  Tasnim Motala, Anisha\\nGupta, Edwin Perry, and Investigator Chris Pipe.\\nMJ [Col McCALL]:  All ri ght.  Thank you, Mr.  Engle.\\nGood morning, Mr.  Connell.\\nLDC [MR. CONNELL]:  Good morning, sir.\", metadata={'source': 'transcripts/KSM II (803TRANS12Feb2024-MERGED).pdf', 'page': 1})"
      ]
     },
     "execution_count": 49,
     "metadata": {},
     "output_type": "execute_result"
    }
   ],
   "source": [
    "from langchain_community.document_loaders import PyPDFLoader\n",
    "import os\n",
    "import re\n",
    "\n",
    "files = os.listdir('transcripts/')\n",
    "\n",
    "loader = PyPDFLoader('transcripts/'+files[1])\n",
    "pages = loader.load_and_split()\n",
    "\n",
    "for page in pages:\n",
    "    lines = page.page_content.split('\\n')\n",
    "    lines_trimmed = list(map(str.strip, lines))\n",
    "    cleaned_text = list(map(lambda s: re.sub(r'\\s+\\d+\\s+$', '', s), lines))[3:-2]\n",
    "    page.page_content = '\\n'.join(cleaned_text)\n",
    "    page.page_content\n",
    "\n",
    "pages[1]"
   ]
  }
 ],
 "metadata": {
  "kernelspec": {
   "display_name": "learning",
   "language": "python",
   "name": "python3"
  },
  "language_info": {
   "codemirror_mode": {
    "name": "ipython",
    "version": 3
   },
   "file_extension": ".py",
   "mimetype": "text/x-python",
   "name": "python",
   "nbconvert_exporter": "python",
   "pygments_lexer": "ipython3",
   "version": "3.10.12"
  }
 },
 "nbformat": 4,
 "nbformat_minor": 2
}
