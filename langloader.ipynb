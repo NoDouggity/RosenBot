{
 "cells": [
  {
   "cell_type": "code",
   "execution_count": 2,
   "metadata": {},
   "outputs": [],
   "source": [
    "from langchain_community.document_loaders import PyPDFLoader\n",
    "import os\n",
    "import re\n",
    "\n",
    "files = os.listdir('transcripts/')\n",
    "for file in files[0:1]:\n",
    "    loader = PyPDFLoader('transcripts/'+file)\n",
    "    pages = loader.load_and_split()\n",
    "\n",
    "    for page in pages:\n",
    "        lines = page.page_content.split('\\n')\n",
    "        lines_trimmed = list(map(str.strip, lines))\n",
    "        cleaned_text = list(map(lambda s: re.sub(r'\\s+\\d{1,2}\\s+$', '', s), lines))[3:-2]\n",
    "        page.page_content = '\\n'.join(cleaned_text)\n",
    "    \n",
    "    with open('transcripts/'+file[:-3]+'txt', 'w') as f:\n",
    "            for page in pages:\n",
    "                f.write(page.page_content)\n",
    "                f.write('\\n')"
   ]
  },
  {
   "cell_type": "code",
   "execution_count": 6,
   "metadata": {},
   "outputs": [],
   "source": [
    "def pagechunker(chunk_size, overlap_size, pages): # takes a list of Documents (pages)\n",
    "    start_page = 0\n",
    "    total_pages = len(pages)\n",
    "    chunks = []\n",
    "    while start_page < total_pages:\n",
    "        chunk_text = ''\n",
    "        for page in pages[start_page:min(start_page+chunk_size, total_pages-1)]:\n",
    "            chunk_text+=(page.page_content)\n",
    "        start_page = start_page+overlap_size\n",
    "        chunks.append(chunk_text)\n",
    "        \n",
    "    return chunks\n",
    "\n",
    "chunks = pagechunker(40, 10, pages)"
   ]
  }
 ],
 "metadata": {
  "kernelspec": {
   "display_name": "learning",
   "language": "python",
   "name": "python3"
  },
  "language_info": {
   "codemirror_mode": {
    "name": "ipython",
    "version": 3
   },
   "file_extension": ".py",
   "mimetype": "text/x-python",
   "name": "python",
   "nbconvert_exporter": "python",
   "pygments_lexer": "ipython3",
   "version": "3.10.9"
  }
 },
 "nbformat": 4,
 "nbformat_minor": 2
}
