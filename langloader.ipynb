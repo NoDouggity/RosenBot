{
 "cells": [
  {
   "cell_type": "code",
   "execution_count": null,
   "metadata": {},
   "outputs": [],
   "source": [
    "from langchain_community.document_loaders import PyPDFLoader\n",
    "import os\n",
    "import re\n",
    "\n",
    "files = os.listdir('transcripts/')\n",
    "\n",
    "loader = PyPDFLoader('transcripts/'+files[1])\n",
    "pages = loader.load_and_split()\n",
    "\n",
    "for page in pages:\n",
    "    lines = page.page_content.split('\\n')\n",
    "    lines_trimmed = list(map(str.strip, lines))\n",
    "    cleaned_text = list(map(lambda s: re.sub(r'\\s+\\d+\\s+$', '', s), lines))[3:-2]\n",
    "    page.page_content = '\\n'.join(cleaned_text)\n",
    "    page.page_content"
   ]
  }
 ],
 "metadata": {
  "kernelspec": {
   "display_name": "learning",
   "language": "python",
   "name": "python3"
  },
  "language_info": {
   "codemirror_mode": {
    "name": "ipython",
    "version": 3
   },
   "file_extension": ".py",
   "mimetype": "text/x-python",
   "name": "python",
   "nbconvert_exporter": "python",
   "pygments_lexer": "ipython3",
   "version": "3.10.12"
  }
 },
 "nbformat": 4,
 "nbformat_minor": 2
}
