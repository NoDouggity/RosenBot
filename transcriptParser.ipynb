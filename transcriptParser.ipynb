{
 "cells": [
  {
   "cell_type": "code",
   "execution_count": 3,
   "metadata": {},
   "outputs": [],
   "source": [
    "import pandas as pd\n",
    "\n",
    "data = pd.read_csv('linktable.csv',index_col=0)\n",
    "transcripts = data[data['Hyperlink'].str.contains('TRANS')]\n",
    "testdata = transcripts[:10]"
   ]
  },
  {
   "cell_type": "code",
   "execution_count": 5,
   "metadata": {},
   "outputs": [
    {
     "name": "stdout",
     "output_type": "stream",
     "text": [
      "file downloaded successfully\n",
      "file downloaded successfully\n",
      "file downloaded successfully\n",
      "file downloaded successfully\n",
      "file downloaded successfully\n",
      "file downloaded successfully\n",
      "file downloaded successfully\n",
      "file downloaded successfully\n",
      "file downloaded successfully\n",
      "file downloaded successfully\n"
     ]
    }
   ],
   "source": [
    "import pypdf\n",
    "import requests as req\n",
    "\n",
    "# Takes our link table:\n",
    "#   FilingName; FilingDate; AENumber; Attachment; Hyperlink\n",
    "\n",
    "for index, row in testdata.iterrows():\n",
    "    url = row['Hyperlink']\n",
    "    filename = 'transcripts/' + url[(url.find('-')+1):]\n",
    "\n",
    "    try:\n",
    "        response = req.get(url)\n",
    "        response.raise_for_status()\n",
    "\n",
    "        with open(filename, 'wb') as file:\n",
    "            file.write(response.content)\n",
    "        print(\"file downloaded successfully\")\n",
    "    except req.exceptions.RequestException as e:\n",
    "        print(f'Error downloading file {index}: {e}')"
   ]
  }
 ],
 "metadata": {
  "kernelspec": {
   "display_name": "learning",
   "language": "python",
   "name": "python3"
  },
  "language_info": {
   "codemirror_mode": {
    "name": "ipython",
    "version": 3
   },
   "file_extension": ".py",
   "mimetype": "text/x-python",
   "name": "python",
   "nbconvert_exporter": "python",
   "pygments_lexer": "ipython3",
   "version": "3.10.12"
  }
 },
 "nbformat": 4,
 "nbformat_minor": 2
}
