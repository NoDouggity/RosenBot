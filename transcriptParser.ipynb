{
 "cells": [
  {
   "cell_type": "code",
   "execution_count": 3,
   "metadata": {},
   "outputs": [],
   "source": [
    "import pandas as pd\n",
    "\n",
    "data = pd.read_csv('linktable.csv',index_col=0)\n",
    "transcripts = data[data['Hyperlink'].str.contains('TRANS')]\n",
    "testdata = transcripts[:10]"
   ]
  },
  {
   "cell_type": "code",
   "execution_count": null,
   "metadata": {},
   "outputs": [],
   "source": [
    "import requests as req\n",
    "\n",
    "# Takes our link table:\n",
    "#   FilingName; FilingDate; AENumber; Attachment; Hyperlink\n",
    "\n",
    "for index, row in testdata.iterrows():\n",
    "    url = row['Hyperlink']\n",
    "    filename = 'transcripts/' + url[(url.find('-')+1):]\n",
    "\n",
    "    try:\n",
    "        response = req.get(url)\n",
    "        response.raise_for_status()\n",
    "\n",
    "        with open(filename, 'wb') as file:\n",
    "            file.write(response.content)\n",
    "        print(\"file downloaded successfully\")\n",
    "    except req.exceptions.RequestException as e:\n",
    "        print(f'Error downloading file {index}: {e}')"
   ]
  },
  {
   "cell_type": "code",
   "execution_count": 21,
   "metadata": {},
   "outputs": [],
   "source": [
    "from pypdf import PdfReader\n",
    "import os\n",
    "\n",
    "files = os.listdir('transcripts/')\n",
    "for file in files:\n",
    "    if file.endswith('.pdf'):\n",
    "        reader = PdfReader('transcripts/'+file)\n",
    "        page_texts = []\n",
    "\n",
    "        for page in reader.pages:\n",
    "            text = page.extract_text()\n",
    "            lines = text.split('\\n')\n",
    "            lines = lines[3:-2]\n",
    "            cleaned_lines = []\n",
    "\n",
    "            for line in lines:\n",
    "                cleaned_line = line.split(' ')[:-2]\n",
    "                cleaned_line = ' '.join(cleaned_line)\n",
    "                cleaned_lines.append(cleaned_line)\n",
    "\n",
    "            cleaned_text = '\\n'.join(cleaned_lines)+'\\n'\n",
    "            page_texts.append(cleaned_text)\n",
    "\n",
    "        with open('transcripts/'+file[:-3]+'txt', 'w') as f:\n",
    "            for page in page_texts:\n",
    "                f.write(page)"
   ]
  }
 ],
 "metadata": {
  "kernelspec": {
   "display_name": "learning",
   "language": "python",
   "name": "python3"
  },
  "language_info": {
   "codemirror_mode": {
    "name": "ipython",
    "version": 3
   },
   "file_extension": ".py",
   "mimetype": "text/x-python",
   "name": "python",
   "nbconvert_exporter": "python",
   "pygments_lexer": "ipython3",
   "version": "3.10.12"
  }
 },
 "nbformat": 4,
 "nbformat_minor": 2
}
