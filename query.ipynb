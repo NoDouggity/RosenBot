{
 "cells": [
  {
   "cell_type": "code",
   "execution_count": 1,
   "metadata": {},
   "outputs": [],
   "source": [
    "import psycopg2\n",
    "import keys\n",
    "import cohere\n",
    "import pandas as pd\n",
    "\n",
    "pgconn = psycopg2.connect(\n",
    "    host=\"localhost\",\n",
    "    dbname='caroldb',\n",
    "    user='postgres',\n",
    "    password=keys.pg_pwd\n",
    ")\n",
    "cur = pgconn.cursor()\n",
    "co=cohere.Client(keys.cohere_key)\n",
    "\n",
    "k = 5\n",
    "query_text = \"Tell me about the most recent hearing.\"\n",
    "\n",
    "# Embed query\n",
    "query_vec = co.embed(texts=[query_text], model=\"embed-english-v3.0\", input_type = \"search_query\")\n",
    "\n",
    "# Search caroldb.pages for k-most similar embeddings, return as page_results\n",
    "search_query = \"\"\"SELECT * FROM pages ORDER BY embedding <=> %s LIMIT %s\"\"\"\n",
    "cur.execute(search_query, (query_vec, k))\n",
    "page_results = pd.DataFrame(cur.fetchall(), columns=['page_id, embedding, page_number, parent_doc, text'])\n",
    "\n",
    "# Search caroldb.transcripts for all parent_docs from page_results, return as parent_results\n",
    "search_query = \"\"\"SELECT * FROM transcripts WHERE hyperlink = ANY (%s)\"\"\"\n",
    "hyperlinks = page_results.parent_doc.drop_duplicates().apply(lambda x: keys.hyperlink + x).to_list()\n",
    "cur.execute(search_query, (hyperlinks,))\n",
    "parent_results = pd.DataFrame(cur.fetchall(), columns=['transcript_id','filingname','filingdate','aenumber','attachment','hyperlink','summary'])\n",
    "\n",
    "# Build reference_material:\n",
    "#   For each doc in parent_results:\n",
    "#       Add summary\n",
    "#       Add all page texts from page_results\n",
    "#\n",
    "# Invoke model with preamble, query, and refernce material\n"
   ]
  },
  {
   "cell_type": "code",
   "execution_count": 4,
   "metadata": {},
   "outputs": [
    {
     "ename": "TypeError",
     "evalue": "prepend() missing 1 required positional argument: 'string'",
     "output_type": "error",
     "traceback": [
      "\u001b[1;31m---------------------------------------------------------------------------\u001b[0m",
      "\u001b[1;31mTypeError\u001b[0m                                 Traceback (most recent call last)",
      "Cell \u001b[1;32mIn[4], line 6\u001b[0m\n\u001b[0;32m      3\u001b[0m \u001b[38;5;28;01mdef\u001b[39;00m \u001b[38;5;21mprepend\u001b[39m(prefix, string):\n\u001b[0;32m      4\u001b[0m     \u001b[38;5;28;01mreturn\u001b[39;00m prefix \u001b[38;5;241m+\u001b[39m string\n\u001b[1;32m----> 6\u001b[0m s \u001b[38;5;241m=\u001b[39m pd\u001b[38;5;241m.\u001b[39mSeries([\u001b[38;5;124m'\u001b[39m\u001b[38;5;124mapple\u001b[39m\u001b[38;5;124m'\u001b[39m, \u001b[38;5;124m'\u001b[39m\u001b[38;5;124mbanana\u001b[39m\u001b[38;5;124m'\u001b[39m, \u001b[38;5;124m'\u001b[39m\u001b[38;5;124morange\u001b[39m\u001b[38;5;124m'\u001b[39m])\u001b[38;5;241m.\u001b[39mapply(\u001b[43mprepend\u001b[49m\u001b[43m(\u001b[49m\u001b[38;5;124;43m'\u001b[39;49m\u001b[38;5;124;43mpre\u001b[39;49m\u001b[38;5;124;43m'\u001b[39;49m\u001b[43m)\u001b[49m)\n\u001b[0;32m      8\u001b[0m \u001b[38;5;28mprint\u001b[39m(s)\n",
      "\u001b[1;31mTypeError\u001b[0m: prepend() missing 1 required positional argument: 'string'"
     ]
    }
   ],
   "source": [
    "import pandas as pd\n",
    "\n",
    "def prepend(prefix, string):\n",
    "    return prefix + string\n",
    "\n",
    "s = pd.Series(['apple', 'banana', 'orange']).apply(prepend('pre'))\n",
    "\n",
    "print(s)"
   ]
  }
 ],
 "metadata": {
  "kernelspec": {
   "display_name": "mlops",
   "language": "python",
   "name": "python3"
  },
  "language_info": {
   "codemirror_mode": {
    "name": "ipython",
    "version": 3
   },
   "file_extension": ".py",
   "mimetype": "text/x-python",
   "name": "python",
   "nbconvert_exporter": "python",
   "pygments_lexer": "ipython3",
   "version": "3.10.9"
  }
 },
 "nbformat": 4,
 "nbformat_minor": 2
}
