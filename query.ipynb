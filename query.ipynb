{
 "cells": [
  {
   "cell_type": "code",
   "execution_count": null,
   "metadata": {},
   "outputs": [],
   "source": [
    "import psycopg2\n",
    "import keys\n",
    "import cohere\n",
    "import pandas as pd\n",
    "\n",
    "pgconn = psycopg2.connect(\n",
    "    host=\"localhost\",\n",
    "    dbname='caroldb',\n",
    "    user='postgres',\n",
    "    password=keys.pg_pwd\n",
    ")\n",
    "cur = pgconn.cursor()\n",
    "co=cohere.Client(keys.cohere_key)\n",
    "\n",
    "k = 5\n",
    "query_text = \"Tell me about the most recent hearing.\"\n",
    "\n",
    "# Embed query\n",
    "query_vec = co.embed(texts=[query_text], model=\"embed-english-v3.0\", input_type = \"search_query\").embeddings[0]\n",
    "\n",
    "# Search caroldb.pages for k-most similar embeddings, return as page_results\n",
    "search_query = \"\"\"SELECT * FROM pages ORDER BY embedding <-> %s LIMIT %s\"\"\"\n",
    "cur.execute(search_query, (query_vec, k))\n",
    "page_results = pd.DataFrame(cur.fetchall(), columns=['page_id, embedding, page_number, parent_doc, text'])\n",
    "\n",
    "# Search caroldb.transcripts for all parent_docs from page_results, return as parent_results\n",
    "search_query = \"\"\"SELECT * FROM transcripts WHERE hyperlink = ANY (%s)\"\"\"\n",
    "hyperlinks = page_results.parent_doc.drop_duplicates().apply(lambda x: keys.hyperlink + x).to_list()\n",
    "cur.execute(search_query, (hyperlinks,))\n",
    "parent_results = pd.DataFrame(cur.fetchall(), columns=['transcript_id','filingname','filingdate','aenumber','attachment','hyperlink','summary'])\n",
    "\n",
    "# Build reference_material:\n",
    "#   For each doc in parent_results:\n",
    "#       Add summary\n",
    "#       Add all page texts from page_results\n",
    "#\n",
    "# Invoke model with preamble, query, and refernce material\n"
   ]
  }
 ],
 "metadata": {
  "kernelspec": {
   "display_name": "mlops",
   "language": "python",
   "name": "python3"
  },
  "language_info": {
   "codemirror_mode": {
    "name": "ipython",
    "version": 3
   },
   "file_extension": ".py",
   "mimetype": "text/x-python",
   "name": "python",
   "nbconvert_exporter": "python",
   "pygments_lexer": "ipython3",
   "version": "3.10.9"
  }
 },
 "nbformat": 4,
 "nbformat_minor": 2
}
