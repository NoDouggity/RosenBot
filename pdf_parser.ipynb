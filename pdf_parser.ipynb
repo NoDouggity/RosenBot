{
 "cells": [
  {
   "cell_type": "code",
   "execution_count": null,
   "metadata": {},
   "outputs": [],
   "source": [
    "import os\n",
    "import pypdf"
   ]
  },
  {
   "cell_type": "code",
   "execution_count": null,
   "id": "8d0f38bc",
   "metadata": {},
   "outputs": [],
   "source": [
    "testpdf = pypdf.PdfReader(r\"C:\\Users\\wolff\\Documents\\Transcripts\\58562-KSM II (806TRANS4Oct2023).pdf\")\n",
    "page = testpdf.pages[0]\n",
    "print(page.extract_text())"
   ]
  }
 ],
 "metadata": {
  "kernelspec": {
   "display_name": "learning",
   "language": "python",
   "name": "python3"
  },
  "language_info": {
   "codemirror_mode": {
    "name": "ipython",
    "version": 3
   },
   "file_extension": ".py",
   "mimetype": "text/x-python",
   "name": "python",
   "nbconvert_exporter": "python",
   "pygments_lexer": "ipython3",
   "version": "3.10.12"
  }
 },
 "nbformat": 4,
 "nbformat_minor": 5
}
