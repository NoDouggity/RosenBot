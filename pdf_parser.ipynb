{
 "cells": [
  {
   "cell_type": "code",
   "execution_count": 2,
   "metadata": {},
   "outputs": [],
   "source": [
    "import os\n",
    "import pypdf"
   ]
  },
  {
   "cell_type": "code",
   "execution_count": 10,
   "id": "8d0f38bc",
   "metadata": {},
   "outputs": [],
   "source": [
    "testpdf = pypdf.PdfReader(r\"C:\\Users\\wolff\\Documents\\Transcripts\\58562-KSM II (806TRANS4Oct2023).pdf\")"
   ]
  },
  {
   "cell_type": "code",
   "execution_count": 17,
   "id": "225fd69e",
   "metadata": {},
   "outputs": [
    {
     "name": "stdout",
     "output_type": "stream",
     "text": [
      "TS//ORCON/NOFORN \n",
      "UNOFFICIAL/UNAUTHENTICATED TRANSCRIPT \n",
      "37942 \n",
      "UNOFFICIAL/UNAUTHENTICATED TRANSCRIPT                                 \n",
      "TS//ORCON/NOFORN \n",
      " [The R.M.C. 806 session was called to order at 0906, 4 October 2023.]  1 \n",
      "MJ [Col McCALL]:  Commission's called to order.  Session has 2 \n",
      "been closed pursuant to Rule for Military Commission 806 for 3 \n",
      "classified oral argument.   4 \n",
      "Trial Counsel, please account for the members of the 5 \n",
      "prosecution and whether they have the requisite security clearances. 6 \n",
      "MTC [MR. TRIVETT]:  Yes, sir.  Good morning. 7 \n",
      "MJ [Col McCALL]:  Good morning.   8 \n",
      "MTC [MR. TRIVETT]:  Your Honor, representing the United States 9 \n",
      "in the courtroom here in Guantanamo are myself, Mr. Clay Trivett, 10 \n",
      "Mr. Christopher Dykstra, Captain Tara Arndt, Lieutenant Colonel Josh 11 \n",
      "Bearden, Lieutenant Robert Baxter, also Captain Andrew Brown, who is 12 \n",
      "manning the front door for security purposes.  Paralegal Rudolph 13 \n",
      "Gibbs is manning the back door for security purposes.   14 \n",
      "Present in the courtroom for the Federal Bureau of 15 \n",
      "Investigation is program analyst Benjamin Teague as well as Special 16 \n",
      "Agent Joseph Hokanson.   17 \n",
      "Representing the United States in the Remote Hearing Room is 18 \n",
      "Mr. Edward Ryan, Mr. Jeffrey Groharing, Major Neville Dastoor, 19 \n",
      "paralegal Karissa Grippando, LN1 Sean Spence, and representing the 20 \n",
      "FBI from the Office of the General Counsel is Ms. Katherine 21 \n",
      "Eisenreich.  All have the requisite clearances. 22 \n",
      "MJ [Col McCALL]:  All right.  Thank you, Mr. Trivett.   23 \n",
      "UNCLASSIFIED//FOR PUBLIC RELEASE\n",
      "UNCLASSIFIED//FOR PUBLIC RELEASE\n",
      "\n"
     ]
    }
   ],
   "source": [
    "page = testpdf.pages[0]\n",
    "print(page.extract_text())"
   ]
  }
 ],
 "metadata": {
  "kernelspec": {
   "display_name": "learning",
   "language": "python",
   "name": "python3"
  },
  "language_info": {
   "codemirror_mode": {
    "name": "ipython",
    "version": 3
   },
   "file_extension": ".py",
   "mimetype": "text/x-python",
   "name": "python",
   "nbconvert_exporter": "python",
   "pygments_lexer": "ipython3",
   "version": "3.10.12"
  }
 },
 "nbformat": 4,
 "nbformat_minor": 5
}
